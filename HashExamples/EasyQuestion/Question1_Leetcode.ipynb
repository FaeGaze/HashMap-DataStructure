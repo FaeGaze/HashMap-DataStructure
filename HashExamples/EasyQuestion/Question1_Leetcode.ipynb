{
 "cells": [
  {
   "cell_type": "code",
   "execution_count": 4,
   "id": "a403103f",
   "metadata": {},
   "outputs": [
    {
     "name": "stdout",
     "output_type": "stream",
     "text": [
      "[0, 1] [1, 2] [0, 1]\n"
     ]
    }
   ],
   "source": [
    "# BruteForceApproach\n",
    "from typing import List\n",
    "class Solution: \n",
    "    def twoSum(self, nums: List[int], target: int):\n",
    "        for p1 in range(len(nums)-1):\n",
    "            ValueToFind = target - nums[p1]\n",
    "            for p2 in range(p1+1,len(nums)):\n",
    "                if nums[p2]==ValueToFind:\n",
    "                    return [p1,p2]\n",
    "\n",
    "\n",
    "s = Solution()\n",
    "Example1 = s.twoSum(nums=[2,7,11,15], target=9)\n",
    "Example2 = s.twoSum(nums=[3,2,4], target=6)\n",
    "Example3 = s.twoSum(nums=[3,3], target=6)\n",
    "\n",
    "print(Example1, Example2, Example3)"
   ]
  },
  {
   "cell_type": "code",
   "execution_count": 3,
   "id": "2b3b1077",
   "metadata": {},
   "outputs": [
    {
     "name": "stdout",
     "output_type": "stream",
     "text": [
      "[0, 1] [1, 2] [0, 1]\n"
     ]
    }
   ],
   "source": [
    "# HashMap Approach\n",
    "from typing import List\n",
    "class Solution: \n",
    "    def twoSum(self, nums: List[int], target: int):\n",
    "\n",
    "        d = {}## Storing map\n",
    "        for idx1 in range(len(nums)):#0, 1, 2    0\n",
    "            #Search is going to find this\n",
    "            ValueToFind = target - nums[idx1]## VTF=6-3=3, VTF = 6-2=4, VTF=6-4=2    6, 3\n",
    "            \n",
    "            \n",
    "            if nums[idx1] in d:#3 in d, 2 in d, 4 in d    3 in d, 6 in d\n",
    "                return [d[nums[idx1]], idx1]#2,1 \n",
    "            \n",
    "            d[ValueToFind] = idx1# {3:0, 4:1, 2:2}  {6:0, 3:1}\n",
    "            \n",
    "            \n",
    "\n",
    "        \n",
    "s = Solution()\n",
    "Example1 = s.twoSum(nums=[2,7,11,15], target=9)\n",
    "Example2 = s.twoSum(nums=[3,2,4], target=6)\n",
    "Example3 = s.twoSum(nums=[3,3], target=6)\n",
    "\n",
    "print(Example1, Example2, Example3)"
   ]
  }
 ],
 "metadata": {
  "kernelspec": {
   "display_name": "Python 3 (ipykernel)",
   "language": "python",
   "name": "python3"
  },
  "language_info": {
   "codemirror_mode": {
    "name": "ipython",
    "version": 3
   },
   "file_extension": ".py",
   "mimetype": "text/x-python",
   "name": "python",
   "nbconvert_exporter": "python",
   "pygments_lexer": "ipython3",
   "version": "3.9.10"
  }
 },
 "nbformat": 4,
 "nbformat_minor": 5
}

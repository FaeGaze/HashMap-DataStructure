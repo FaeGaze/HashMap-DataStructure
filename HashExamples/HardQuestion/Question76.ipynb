{
 "cells": [
  {
   "cell_type": "code",
   "execution_count": 8,
   "id": "d456242b",
   "metadata": {},
   "outputs": [
    {
     "name": "stdout",
     "output_type": "stream",
     "text": [
      "BANC\n",
      "a\n",
      "\n"
     ]
    }
   ],
   "source": [
    "from typing import List\n",
    "\n",
    "class Solution:\n",
    "    def minWindow(self, s:str, t:str) -> str:\n",
    "        from collections import Counter\n",
    "        \n",
    "        # Initialization\n",
    "        right, left = 0, 0\n",
    "        HashHave, HashNeed = {}, {}\n",
    "        need = len(t)\n",
    "        #Expansion\n",
    "        countHave = 0\n",
    "        #Optimization\n",
    "        minStrLen = float(\"inf\") # To store the length of current valid substring\n",
    "        startIndex = -1 # To store the index of current valid substring\n",
    "        m, n = len(s), len(t)\n",
    "        need = len(t)\n",
    "\n",
    "        if m < need:\n",
    "            return \"\"\n",
    "        \n",
    "        HashNeed = Counter(t)\n",
    "\n",
    "        # Main Logic\n",
    "        for right in range(0, m):\n",
    "            HashHave[s[right]] = HashHave.get(s[right],0)+1\n",
    "            HashNeed[s[right]] = HashNeed.get(s[right],0)\n",
    "        # Expansion until we find the valid string\n",
    "            if HashHave.get(s[right]) <= HashNeed.get(s[right]):\n",
    "                countHave = countHave + 1\n",
    "    #         print(countHave)\n",
    "\n",
    "            # Check for the validation of substring\n",
    "            if countHave == need:\n",
    "                # minimization\n",
    "                while HashHave.get(s[left]) > HashNeed.get(s[left]):\n",
    "                    HashHave[s[left]] -= 1\n",
    "                    left += 1\n",
    "\n",
    "                # Optimization\n",
    "                ValidSubLen = right-left+1\n",
    "                if ValidSubLen < minStrLen:\n",
    "                    minStrLen = ValidSubLen\n",
    "                    startIndex = left \n",
    "\n",
    "\n",
    "        if startIndex == -1:\n",
    "            return \"\"\n",
    "        \n",
    "        return (s[startIndex: startIndex+minStrLen])\n",
    "\n",
    "\n",
    "Example1 = Solution()\n",
    "print(Example1.minWindow(\"ADOBECODEBANC\",\"ABC\"))\n",
    "\n",
    "Example2 = Solution()\n",
    "print(Example2.minWindow(\"a\",\"a\"))\n",
    "\n",
    "Example3 = Solution()\n",
    "print(Example3.minWindow(\"a\",\"aa\"))"
   ]
  }
 ],
 "metadata": {
  "kernelspec": {
   "display_name": "Python 3 (ipykernel)",
   "language": "python",
   "name": "python3"
  },
  "language_info": {
   "codemirror_mode": {
    "name": "ipython",
    "version": 3
   },
   "file_extension": ".py",
   "mimetype": "text/x-python",
   "name": "python",
   "nbconvert_exporter": "python",
   "pygments_lexer": "ipython3",
   "version": "3.9.10"
  }
 },
 "nbformat": 4,
 "nbformat_minor": 5
}

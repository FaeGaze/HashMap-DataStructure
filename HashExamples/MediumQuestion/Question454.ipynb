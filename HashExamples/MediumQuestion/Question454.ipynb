{
 "cells": [
  {
   "cell_type": "code",
   "execution_count": 9,
   "id": "4bad16f2",
   "metadata": {},
   "outputs": [
    {
     "data": {
      "text/plain": [
       "6"
      ]
     },
     "execution_count": 9,
     "metadata": {},
     "output_type": "execute_result"
    }
   ],
   "source": [
    "from typing import List\n",
    "\n",
    "class Solution:\n",
    "    def fourSumCount(self, nums1: List[int], nums2: List[int], nums3: List[int], nums4: List[int]) -> int:\n",
    "        Hashmap = {}\n",
    "        n = len(nums1)\n",
    "        for i in range(n):\n",
    "            for j in range(n):\n",
    "                Hashmap[nums1[i]+nums2[j]]=Hashmap.get((nums1[i]+nums2[j]), 0)+1\n",
    "\n",
    "        output = 0\n",
    "        for k in range(n):\n",
    "            for l in range(n):\n",
    "                if -(nums3[k]+nums4[l]) in Hashmap:\n",
    "                    output+=Hashmap[-1*(nums3[k]+nums4[l])]\n",
    "        return output  \n",
    "    \n",
    "    \n",
    "s = Solution()\n",
    "nums1 = [-1,-1]\n",
    "nums2 = [-1,1]\n",
    "nums3 = [-1,1]\n",
    "nums4 = [1,-1]\n",
    "s.fourSumCount(nums1,nums2,nums3,nums4)"
   ]
  }
 ],
 "metadata": {
  "kernelspec": {
   "display_name": "Python 3 (ipykernel)",
   "language": "python",
   "name": "python3"
  },
  "language_info": {
   "codemirror_mode": {
    "name": "ipython",
    "version": 3
   },
   "file_extension": ".py",
   "mimetype": "text/x-python",
   "name": "python",
   "nbconvert_exporter": "python",
   "pygments_lexer": "ipython3",
   "version": "3.9.10"
  }
 },
 "nbformat": 4,
 "nbformat_minor": 5
}

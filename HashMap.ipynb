{
 "cells": [
  {
   "cell_type": "markdown",
   "id": "5dc78b8c",
   "metadata": {},
   "source": [
    "# HashMap:\n",
    "This implementation of HashMap shows dictionary and how dictionary works internally."
   ]
  },
  {
   "cell_type": "code",
   "execution_count": 3,
   "id": "7594cbd5",
   "metadata": {},
   "outputs": [
    {
     "name": "stdout",
     "output_type": "stream",
     "text": [
      "435\n",
      "Emploee_ID\n",
      "Hash Table\n",
      " [None, [['Ming Lou', 435]], [['Lisa Smith', 27]], None, [['Ankit Sam', 76]], None, [['Aditya San', 852]], [['Alicia Joe', 509]], [['Sandra Dee 5', 150]], [['Mike Farj', 567]]]\n",
      "Not Empty Items [['Ming Lou', 435]]\n",
      "Not Empty Items [['Lisa Smith', 27]]\n",
      "Not Empty Items [['Ankit Sam', 76]]\n",
      "Not Empty Items [['Aditya San', 852]]\n",
      "Not Empty Items [['Alicia Joe', 509]]\n",
      "Not Empty Items [['Sandra Dee 5', 150]]\n",
      "Not Empty Items [['Mike Farj', 567]]\n"
     ]
    }
   ],
   "source": [
    "class HashTable:\n",
    "    #Create Constructor\n",
    "    def __init__(self):\n",
    "        self.size = 10\n",
    "    #Create Empty Array\n",
    "        self.arr = [None] * self.size# [None, None, None, None, None, None, None, None, None, None]\n",
    "        \n",
    "    ## Create Hash Function/Algorithim to Find Index Number of \n",
    "    def _get_hash(self, key): # Sandra Dee 5 ## Hash Function (key) --> index number\n",
    "        key_hash = 0\n",
    "        for char in str(key):\n",
    "                key_hash += ord(char)\n",
    "        return key_hash % self.size ## 8\n",
    "    \n",
    "   \n",
    "    # Setter for adding Key Value Pairs to the array\n",
    "    def __setitem__(self,key,val):\n",
    "        # #given the key to locate the cell of the array \n",
    "        hash_key = self._get_hash(key)# 8\n",
    "        key_value = [key, val]\n",
    "        self.arr[hash_key] = list([key_value])## [[\"Sandra Dee 5\", 150]]\n",
    "    \n",
    "    # Getter: To get the value of the key\n",
    "    def __getitem__(self,key):\n",
    "        #given the key to locate the cell of the array \n",
    "        hash_key = self._get_hash(key) # 8\n",
    "        if self.arr[hash_key] is not None:\n",
    "            for element in self.arr[hash_key]:\n",
    "                return element[1]\n",
    "\n",
    "    # Deleter# To delete the key\n",
    "    def __delitem__(self,key):\n",
    "        #given the key to locate the cell of the array \n",
    "        key_hash = self._get_hash(key)\n",
    "        if self.arr[key_hash] is None:\n",
    "            return \n",
    "        del self.arr[key_hash]\n",
    "        \n",
    "    # Printing    \n",
    "    def __str__(self):\n",
    "        print(\"Emploee_ID\")\n",
    "        # Print items in the cell that are not None\n",
    "        print(\"Hash Table\\n\", self.arr)\n",
    "        for item in self.arr:\n",
    "            if item is not None:\n",
    "                print(\"Not Empty Items\", str(item))\n",
    "                \n",
    "                \n",
    "if __name__ == '__main__':\n",
    "    h = HashTable()\n",
    "    h['John Smith'] = 120 #8\n",
    "    h[\"Lisa Smith\"] = 27\n",
    "    h[\"Sam Doe\"] = 149#1\n",
    "    h['Bob Lou'] = 197#1\n",
    "    h['Ming Lou'] = 26#1\n",
    "    h['Ming Lou'] = 435#1\n",
    "    \n",
    "    h['Mike Farj'] =  567\n",
    "    h['Carol Lee 1'] = 130#8\n",
    "    h[\"Sandra Dee 5\"] = 149#8\n",
    "    h[\"Sandra Dee 5\"] = 150#8\n",
    "    h['Ankit Sam']= 76\n",
    "    h['Aditya San'] = 852\n",
    "    h['Alicia Joe']=509\n",
    "\n",
    "    print(h[\"Ming Lou\"])\n",
    "    h.__str__()\n",
    "\n"
   ]
  },
  {
   "cell_type": "code",
   "execution_count": null,
   "id": "364cc9ab",
   "metadata": {},
   "outputs": [],
   "source": []
  }
 ],
 "metadata": {
  "kernelspec": {
   "display_name": "Python 3 (ipykernel)",
   "language": "python",
   "name": "python3"
  },
  "language_info": {
   "codemirror_mode": {
    "name": "ipython",
    "version": 3
   },
   "file_extension": ".py",
   "mimetype": "text/x-python",
   "name": "python",
   "nbconvert_exporter": "python",
   "pygments_lexer": "ipython3",
   "version": "3.9.10"
  }
 },
 "nbformat": 4,
 "nbformat_minor": 5
}
